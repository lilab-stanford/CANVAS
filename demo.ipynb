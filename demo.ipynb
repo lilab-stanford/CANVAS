{
 "cells": [
  {
   "metadata": {},
   "cell_type": "markdown",
   "source": [
    "# CANVAS — Quickstart Inference (API)\n",
    "This notebook demonstrates pure inference on patch-level images via the importable API.\n",
    "You’ll load local user weights, run folder-level predictions, and (optionally) apply stain color normalization."
   ],
   "id": "7b2a6b48fd047b66"
  },
  {
   "metadata": {},
   "cell_type": "markdown",
   "source": [
    "## 1. Environment Check\n",
    "\n",
    "Verify Python, PyTorch (CUDA availability), and timm versions to ensure the runtime matches expected dependencies."
   ],
   "id": "d1e513d3cda336fc"
  },
  {
   "metadata": {
    "ExecuteTime": {
     "end_time": "2025-09-14T03:15:04.510396Z",
     "start_time": "2025-09-14T03:15:04.507250Z"
    }
   },
   "cell_type": "code",
   "source": [
    "# Quick environment check (safe to run multiple times)\n",
    "import sys, torch\n",
    "import timm\n",
    "print(\"Python:\", sys.version)\n",
    "print(\"PyTorch:\", torch.__version__, \"CUDA:\", torch.cuda.is_available())\n",
    "print(\"timm:\", timm.__version__)"
   ],
   "id": "1f58d3eaab15ae0",
   "outputs": [
    {
     "name": "stdout",
     "output_type": "stream",
     "text": [
      "Python: 3.10.18 (main, Jun  5 2025, 13:14:17) [GCC 11.2.0]\n",
      "PyTorch: 2.0.1+cu117 CUDA: True\n",
      "timm: 0.4.12\n"
     ]
    }
   ],
   "execution_count": 3
  },
  {
   "metadata": {},
   "cell_type": "markdown",
   "source": [
    "## 2. Configure Paths\n",
    "\n",
    "Set the local fine-tuned checkpoint path (reference weights), the MUSK source (HF Hub or local .safetensors), and the demo image folder (PNG/JPG/TIF)."
   ],
   "id": "a2b4d35dd93d377"
  },
  {
   "metadata": {
    "ExecuteTime": {
     "end_time": "2025-09-14T03:18:08.459712Z",
     "start_time": "2025-09-14T03:18:08.454471Z"
    }
   },
   "cell_type": "code",
   "source": [
    "from pathlib import Path\n",
    "\n",
    "# >>> EDIT THESE <<<\n",
    "WEIGHTS_PATH = Path(\"Habitat_prediction/reference_weight.pth\")   # local path to your user weights\n",
    "MUSK_SOURCE  = \"hf_hub:xiangjx/musk\"         # or a local path to MUSK model.safetensors\n",
    "DEMO_DIR     = Path(\"Demo_data\")             # folder with PNG/JPG/TIF patches\n",
    "\n",
    "print(\"Weights exists:\", WEIGHTS_PATH.exists(), WEIGHTS_PATH)\n",
    "print(\"Demo dir exists:\", DEMO_DIR.exists(), DEMO_DIR)"
   ],
   "id": "aa86e0ad67310cbf",
   "outputs": [
    {
     "name": "stdout",
     "output_type": "stream",
     "text": [
      "Weights exists: True Habitat_prediction/reference_weight.pth\n",
      "Demo dir exists: True Demo_data\n"
     ]
    }
   ],
   "execution_count": 7
  },
  {
   "metadata": {},
   "cell_type": "markdown",
   "source": [
    "## 3. Import API & Load Model\n",
    "\n",
    "Construct the backbone and load your local weights."
   ],
   "id": "1244dd77f1371bc1"
  },
  {
   "metadata": {
    "ExecuteTime": {
     "end_time": "2025-09-14T03:31:29.424792Z",
     "start_time": "2025-09-14T03:31:09.847962Z"
    }
   },
   "cell_type": "code",
   "source": [
    "from Habitat_prediction.api import load_model, predict_folder\n",
    "\n",
    "model, device = load_model(\n",
    "    #weights=str(WEIGHTS_PATH),    # optional: local weights only\n",
    "    musk_source=MUSK_SOURCE,      # hf_hub or local path to MUSK backbone\n",
    ")\n",
    "print(\"Loaded model on:\", device)"
   ],
   "id": "85a953d2ffcea5ba",
   "outputs": [
    {
     "name": "stdout",
     "output_type": "stream",
     "text": [
      "Load ckpt from /home/zli1893/.cache/huggingface/hub/models--xiangjx--musk/snapshots/de1ffed28608c197d2903f6fa42b491a3fbf0fb8/model.safetensors\n",
      "Loaded model on: cuda\n"
     ]
    }
   ],
   "execution_count": 16
  },
  {
   "metadata": {},
   "cell_type": "markdown",
   "source": [
    "## 4. Inference\n",
    "\n",
    "Run inference on all images under the demo folder. The output includes per-class probabilities."
   ],
   "id": "d4ef6c293fd6c2b7"
  },
  {
   "metadata": {
    "ExecuteTime": {
     "end_time": "2025-09-14T03:34:29.695310Z",
     "start_time": "2025-09-14T03:34:29.312221Z"
    }
   },
   "cell_type": "code",
   "source": [
    "import pandas as pd\n",
    "from pathlib import Path\n",
    "\n",
    "df = predict_folder(\n",
    "    model, device, DEMO_DIR,\n",
    "    img_size=384, batch_size=64,\n",
    ")\n",
    "\n",
    "OUT_DIR = Path(\"Demo_data\"); OUT_DIR.mkdir(exist_ok=True)\n",
    "out_csv = OUT_DIR / \"output.csv\"\n",
    "df.to_csv(out_csv, index=False)\n",
    "print(\"Saved\")"
   ],
   "id": "613e3206d6a2ef5c",
   "outputs": [
    {
     "name": "stdout",
     "output_type": "stream",
     "text": [
      "Saved\n"
     ]
    }
   ],
   "execution_count": 19
  },
  {
   "metadata": {},
   "cell_type": "markdown",
   "source": "## 5. Color Normalization (optional)",
   "id": "438a226add119478"
  },
  {
   "metadata": {},
   "cell_type": "code",
   "outputs": [],
   "execution_count": null,
   "source": [
    "# Requires: pip install tiatoolbox umap-learn scikit-image opencv-python-headless\n",
    "try:\n",
    "    import tiatoolbox\n",
    "    ref_img = Path('ref.png')\n",
    "    if ref_img is None:\n",
    "        raise RuntimeError(\"No reference image found under DEMO_DIR.\")\n",
    "    df_tia = predict_folder(\n",
    "        model, device, DEMO_DIR,\n",
    "        img_size=384, batch_size=64,\n",
    "        color_norm=True,\n",
    "        reference_image=str(ref_img),\n",
    "        color_norm_method=\"Vahadane\",\n",
    "        color_norm_backend=\"tiatoolbox\",\n",
    "    )\n",
    "    from pathlib import Path\n",
    "    OUT_DIR = Path(\"outputs\"); OUT_DIR.mkdir(exist_ok=True)\n",
    "    out_csv_tia = OUT_DIR / \"output.csv\"\n",
    "    df_tia.to_csv(out_csv_tia, index=False)\n",
    "    print(\"Saved\")\n",
    "except Exception as e:\n",
    "    print(\"[Info] tiatoolbox not available or failed to initialize:\", e)"
   ],
   "id": "9f40808229e9c37a"
  }
 ],
 "metadata": {
  "kernelspec": {
   "display_name": "Python 3",
   "language": "python",
   "name": "python3"
  },
  "language_info": {
   "codemirror_mode": {
    "name": "ipython",
    "version": 2
   },
   "file_extension": ".py",
   "mimetype": "text/x-python",
   "name": "python",
   "nbconvert_exporter": "python",
   "pygments_lexer": "ipython2",
   "version": "2.7.6"
  }
 },
 "nbformat": 4,
 "nbformat_minor": 5
}
